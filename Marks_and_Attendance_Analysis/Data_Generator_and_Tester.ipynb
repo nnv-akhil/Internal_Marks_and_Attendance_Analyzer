{
 "cells": [
  {
   "cell_type": "code",
   "execution_count": 128,
   "id": "a37a3b12",
   "metadata": {},
   "outputs": [],
   "source": [
    "import numpy as np\n",
    "import pandas as pd\n",
    "import random \n",
    "import seaborn as sns\n",
    "import matplotlib.pyplot as plt"
   ]
  },
  {
   "cell_type": "code",
   "execution_count": 37,
   "id": "be939ffd",
   "metadata": {},
   "outputs": [],
   "source": [
    "sub=['Roll_No','NLP','DL','BDA','ML','AI','DSA']"
   ]
  },
  {
   "cell_type": "code",
   "execution_count": 3,
   "id": "ca1984b3",
   "metadata": {},
   "outputs": [],
   "source": [
    "grades=['A+','A','B','C','D','E','F']"
   ]
  },
  {
   "cell_type": "code",
   "execution_count": 12,
   "id": "3d6ce29e",
   "metadata": {},
   "outputs": [],
   "source": [
    "nlp=[]\n",
    "for i in range(70):\n",
    "    j=random.randint(0,6)\n",
    "    nlp.append(grades[j])"
   ]
  },
  {
   "cell_type": "code",
   "execution_count": 13,
   "id": "c7f16a38",
   "metadata": {},
   "outputs": [],
   "source": [
    "dl=[]\n",
    "for i in range(70):\n",
    "    j=random.randint(0,6)\n",
    "    dl.append(grades[j])"
   ]
  },
  {
   "cell_type": "code",
   "execution_count": 14,
   "id": "0dd79561",
   "metadata": {},
   "outputs": [],
   "source": [
    "bda=[]\n",
    "for i in range(70):\n",
    "    j=random.randint(0,6)\n",
    "    bda.append(grades[j])"
   ]
  },
  {
   "cell_type": "code",
   "execution_count": 15,
   "id": "5b27dd2d",
   "metadata": {},
   "outputs": [],
   "source": [
    "ml=[]\n",
    "for i in range(70):\n",
    "    j=random.randint(0,6)\n",
    "    ml.append(grades[j])"
   ]
  },
  {
   "cell_type": "code",
   "execution_count": 16,
   "id": "1f7c700f",
   "metadata": {},
   "outputs": [],
   "source": [
    "ai=[]\n",
    "for i in range(70):\n",
    "    j=random.randint(0,6)\n",
    "    ai.append(grades[j])"
   ]
  },
  {
   "cell_type": "code",
   "execution_count": 17,
   "id": "471dbfc3",
   "metadata": {},
   "outputs": [],
   "source": [
    "dsa=[]\n",
    "for i in range(70):\n",
    "    j=random.randint(0,6)\n",
    "    dsa.append(grades[j])"
   ]
  },
  {
   "cell_type": "code",
   "execution_count": 30,
   "id": "cc24244d",
   "metadata": {},
   "outputs": [],
   "source": [
    "roll=[\"20131A440\"+str(i) for i in range(1,10)]"
   ]
  },
  {
   "cell_type": "code",
   "execution_count": 31,
   "id": "b753e92f",
   "metadata": {},
   "outputs": [],
   "source": [
    "for i in range(10,64):\n",
    "    roll.append(\"20131A44\"+str(i) )"
   ]
  },
  {
   "cell_type": "code",
   "execution_count": 33,
   "id": "fac96254",
   "metadata": {},
   "outputs": [],
   "source": [
    "for i in range(1,8):\n",
    "    roll.append(\"21135A440\"+str(i))"
   ]
  },
  {
   "cell_type": "code",
   "execution_count": 43,
   "id": "1a3bcecd",
   "metadata": {},
   "outputs": [],
   "source": [
    "d=pd.DataFrame(list(zip(roll,nlp,dl,bda,ml,ai,dsa)),columns =sub)"
   ]
  },
  {
   "cell_type": "code",
   "execution_count": 45,
   "id": "6781843f",
   "metadata": {},
   "outputs": [],
   "source": [
    "d.to_excel(\"marks.xlsx\",index=False)"
   ]
  },
  {
   "cell_type": "code",
   "execution_count": 39,
   "id": "49243349",
   "metadata": {},
   "outputs": [
    {
     "data": {
      "text/html": [
       "<div>\n",
       "<style scoped>\n",
       "    .dataframe tbody tr th:only-of-type {\n",
       "        vertical-align: middle;\n",
       "    }\n",
       "\n",
       "    .dataframe tbody tr th {\n",
       "        vertical-align: top;\n",
       "    }\n",
       "\n",
       "    .dataframe thead th {\n",
       "        text-align: right;\n",
       "    }\n",
       "</style>\n",
       "<table border=\"1\" class=\"dataframe\">\n",
       "  <thead>\n",
       "    <tr style=\"text-align: right;\">\n",
       "      <th></th>\n",
       "      <th>Roll_No</th>\n",
       "      <th>NLP</th>\n",
       "      <th>DL</th>\n",
       "      <th>BDA</th>\n",
       "      <th>ML</th>\n",
       "      <th>AI</th>\n",
       "      <th>DSA</th>\n",
       "    </tr>\n",
       "  </thead>\n",
       "  <tbody>\n",
       "    <tr>\n",
       "      <th>0</th>\n",
       "      <td>20131A4401</td>\n",
       "      <td>C</td>\n",
       "      <td>A+</td>\n",
       "      <td>F</td>\n",
       "      <td>A+</td>\n",
       "      <td>A</td>\n",
       "      <td>D</td>\n",
       "    </tr>\n",
       "    <tr>\n",
       "      <th>1</th>\n",
       "      <td>20131A4402</td>\n",
       "      <td>D</td>\n",
       "      <td>A</td>\n",
       "      <td>E</td>\n",
       "      <td>A</td>\n",
       "      <td>F</td>\n",
       "      <td>F</td>\n",
       "    </tr>\n",
       "    <tr>\n",
       "      <th>2</th>\n",
       "      <td>20131A4403</td>\n",
       "      <td>E</td>\n",
       "      <td>E</td>\n",
       "      <td>B</td>\n",
       "      <td>A</td>\n",
       "      <td>A</td>\n",
       "      <td>B</td>\n",
       "    </tr>\n",
       "    <tr>\n",
       "      <th>3</th>\n",
       "      <td>20131A4404</td>\n",
       "      <td>D</td>\n",
       "      <td>D</td>\n",
       "      <td>F</td>\n",
       "      <td>D</td>\n",
       "      <td>E</td>\n",
       "      <td>C</td>\n",
       "    </tr>\n",
       "    <tr>\n",
       "      <th>4</th>\n",
       "      <td>20131A4405</td>\n",
       "      <td>C</td>\n",
       "      <td>A+</td>\n",
       "      <td>C</td>\n",
       "      <td>F</td>\n",
       "      <td>E</td>\n",
       "      <td>B</td>\n",
       "    </tr>\n",
       "    <tr>\n",
       "      <th>...</th>\n",
       "      <td>...</td>\n",
       "      <td>...</td>\n",
       "      <td>...</td>\n",
       "      <td>...</td>\n",
       "      <td>...</td>\n",
       "      <td>...</td>\n",
       "      <td>...</td>\n",
       "    </tr>\n",
       "    <tr>\n",
       "      <th>65</th>\n",
       "      <td>21135A4403</td>\n",
       "      <td>F</td>\n",
       "      <td>E</td>\n",
       "      <td>E</td>\n",
       "      <td>B</td>\n",
       "      <td>F</td>\n",
       "      <td>A+</td>\n",
       "    </tr>\n",
       "    <tr>\n",
       "      <th>66</th>\n",
       "      <td>21135A4404</td>\n",
       "      <td>F</td>\n",
       "      <td>E</td>\n",
       "      <td>A+</td>\n",
       "      <td>B</td>\n",
       "      <td>B</td>\n",
       "      <td>C</td>\n",
       "    </tr>\n",
       "    <tr>\n",
       "      <th>67</th>\n",
       "      <td>21135A4405</td>\n",
       "      <td>A+</td>\n",
       "      <td>C</td>\n",
       "      <td>F</td>\n",
       "      <td>D</td>\n",
       "      <td>B</td>\n",
       "      <td>F</td>\n",
       "    </tr>\n",
       "    <tr>\n",
       "      <th>68</th>\n",
       "      <td>21135A4406</td>\n",
       "      <td>F</td>\n",
       "      <td>A+</td>\n",
       "      <td>D</td>\n",
       "      <td>B</td>\n",
       "      <td>E</td>\n",
       "      <td>A</td>\n",
       "    </tr>\n",
       "    <tr>\n",
       "      <th>69</th>\n",
       "      <td>21135A4407</td>\n",
       "      <td>E</td>\n",
       "      <td>B</td>\n",
       "      <td>F</td>\n",
       "      <td>A+</td>\n",
       "      <td>F</td>\n",
       "      <td>E</td>\n",
       "    </tr>\n",
       "  </tbody>\n",
       "</table>\n",
       "<p>70 rows × 7 columns</p>\n",
       "</div>"
      ],
      "text/plain": [
       "       Roll_No NLP  DL BDA  ML AI DSA\n",
       "0   20131A4401   C  A+   F  A+  A   D\n",
       "1   20131A4402   D   A   E   A  F   F\n",
       "2   20131A4403   E   E   B   A  A   B\n",
       "3   20131A4404   D   D   F   D  E   C\n",
       "4   20131A4405   C  A+   C   F  E   B\n",
       "..         ...  ..  ..  ..  .. ..  ..\n",
       "65  21135A4403   F   E   E   B  F  A+\n",
       "66  21135A4404   F   E  A+   B  B   C\n",
       "67  21135A4405  A+   C   F   D  B   F\n",
       "68  21135A4406   F  A+   D   B  E   A\n",
       "69  21135A4407   E   B   F  A+  F   E\n",
       "\n",
       "[70 rows x 7 columns]"
      ]
     },
     "execution_count": 39,
     "metadata": {},
     "output_type": "execute_result"
    }
   ],
   "source": [
    "d"
   ]
  },
  {
   "cell_type": "code",
   "execution_count": 49,
   "id": "f302511b",
   "metadata": {},
   "outputs": [],
   "source": [
    "credits=[{'NLP':3.0,'DL':3.0,'BDA':3.0,'ML':3.0,'AI':3.0,'DSA':3.0}]"
   ]
  },
  {
   "cell_type": "code",
   "execution_count": 50,
   "id": "14ee3e95",
   "metadata": {},
   "outputs": [],
   "source": [
    "cred=pd.DataFrame(credits)"
   ]
  },
  {
   "cell_type": "code",
   "execution_count": 52,
   "id": "915931e4",
   "metadata": {},
   "outputs": [],
   "source": [
    "cred.to_excel(\"credits.xlsx\")"
   ]
  },
  {
   "cell_type": "code",
   "execution_count": 55,
   "id": "b4c78312",
   "metadata": {},
   "outputs": [],
   "source": [
    "map={'A+':10,'A':9,'B':8,'C':7,'D':6,'E':5,'F':4}"
   ]
  },
  {
   "cell_type": "code",
   "execution_count": 100,
   "id": "e8c8d849",
   "metadata": {},
   "outputs": [],
   "source": [
    "tot_sum=[credits[0][i] for i in credits[0].keys()]\n",
    "tot_sum=sum(tot_sum)"
   ]
  },
  {
   "cell_type": "code",
   "execution_count": 103,
   "id": "9012b8f9",
   "metadata": {},
   "outputs": [],
   "source": [
    "cgpa=[]\n",
    "len=list(d.shape)\n",
    "len=len[0]\n",
    "for i in range(len):\n",
    "    x=0\n",
    "    for j in d.loc[i].keys()[1:]:\n",
    "        x+=credits[0][j]*map[d.loc[i][j]]\n",
    "    x/=tot_sum\n",
    "    x=round(x,2)\n",
    "    cgpa.append(x)"
   ]
  },
  {
   "cell_type": "code",
   "execution_count": 109,
   "id": "c55c5a9f",
   "metadata": {},
   "outputs": [],
   "source": [
    "d['CGPA']=cgpa"
   ]
  },
  {
   "cell_type": "code",
   "execution_count": 110,
   "id": "c0cccdaf",
   "metadata": {},
   "outputs": [
    {
     "data": {
      "text/html": [
       "<div>\n",
       "<style scoped>\n",
       "    .dataframe tbody tr th:only-of-type {\n",
       "        vertical-align: middle;\n",
       "    }\n",
       "\n",
       "    .dataframe tbody tr th {\n",
       "        vertical-align: top;\n",
       "    }\n",
       "\n",
       "    .dataframe thead th {\n",
       "        text-align: right;\n",
       "    }\n",
       "</style>\n",
       "<table border=\"1\" class=\"dataframe\">\n",
       "  <thead>\n",
       "    <tr style=\"text-align: right;\">\n",
       "      <th></th>\n",
       "      <th>Roll_No</th>\n",
       "      <th>NLP</th>\n",
       "      <th>DL</th>\n",
       "      <th>BDA</th>\n",
       "      <th>ML</th>\n",
       "      <th>AI</th>\n",
       "      <th>DSA</th>\n",
       "      <th>CGPA</th>\n",
       "    </tr>\n",
       "  </thead>\n",
       "  <tbody>\n",
       "    <tr>\n",
       "      <th>0</th>\n",
       "      <td>20131A4401</td>\n",
       "      <td>C</td>\n",
       "      <td>A+</td>\n",
       "      <td>F</td>\n",
       "      <td>A+</td>\n",
       "      <td>A</td>\n",
       "      <td>D</td>\n",
       "      <td>7.67</td>\n",
       "    </tr>\n",
       "    <tr>\n",
       "      <th>1</th>\n",
       "      <td>20131A4402</td>\n",
       "      <td>D</td>\n",
       "      <td>A</td>\n",
       "      <td>E</td>\n",
       "      <td>A</td>\n",
       "      <td>F</td>\n",
       "      <td>F</td>\n",
       "      <td>6.17</td>\n",
       "    </tr>\n",
       "    <tr>\n",
       "      <th>2</th>\n",
       "      <td>20131A4403</td>\n",
       "      <td>E</td>\n",
       "      <td>E</td>\n",
       "      <td>B</td>\n",
       "      <td>A</td>\n",
       "      <td>A</td>\n",
       "      <td>B</td>\n",
       "      <td>7.33</td>\n",
       "    </tr>\n",
       "    <tr>\n",
       "      <th>3</th>\n",
       "      <td>20131A4404</td>\n",
       "      <td>D</td>\n",
       "      <td>D</td>\n",
       "      <td>F</td>\n",
       "      <td>D</td>\n",
       "      <td>E</td>\n",
       "      <td>C</td>\n",
       "      <td>5.67</td>\n",
       "    </tr>\n",
       "    <tr>\n",
       "      <th>4</th>\n",
       "      <td>20131A4405</td>\n",
       "      <td>C</td>\n",
       "      <td>A+</td>\n",
       "      <td>C</td>\n",
       "      <td>F</td>\n",
       "      <td>E</td>\n",
       "      <td>B</td>\n",
       "      <td>6.83</td>\n",
       "    </tr>\n",
       "    <tr>\n",
       "      <th>...</th>\n",
       "      <td>...</td>\n",
       "      <td>...</td>\n",
       "      <td>...</td>\n",
       "      <td>...</td>\n",
       "      <td>...</td>\n",
       "      <td>...</td>\n",
       "      <td>...</td>\n",
       "      <td>...</td>\n",
       "    </tr>\n",
       "    <tr>\n",
       "      <th>65</th>\n",
       "      <td>21135A4403</td>\n",
       "      <td>F</td>\n",
       "      <td>E</td>\n",
       "      <td>E</td>\n",
       "      <td>B</td>\n",
       "      <td>F</td>\n",
       "      <td>A+</td>\n",
       "      <td>6.00</td>\n",
       "    </tr>\n",
       "    <tr>\n",
       "      <th>66</th>\n",
       "      <td>21135A4404</td>\n",
       "      <td>F</td>\n",
       "      <td>E</td>\n",
       "      <td>A+</td>\n",
       "      <td>B</td>\n",
       "      <td>B</td>\n",
       "      <td>C</td>\n",
       "      <td>7.00</td>\n",
       "    </tr>\n",
       "    <tr>\n",
       "      <th>67</th>\n",
       "      <td>21135A4405</td>\n",
       "      <td>A+</td>\n",
       "      <td>C</td>\n",
       "      <td>F</td>\n",
       "      <td>D</td>\n",
       "      <td>B</td>\n",
       "      <td>F</td>\n",
       "      <td>6.50</td>\n",
       "    </tr>\n",
       "    <tr>\n",
       "      <th>68</th>\n",
       "      <td>21135A4406</td>\n",
       "      <td>F</td>\n",
       "      <td>A+</td>\n",
       "      <td>D</td>\n",
       "      <td>B</td>\n",
       "      <td>E</td>\n",
       "      <td>A</td>\n",
       "      <td>7.00</td>\n",
       "    </tr>\n",
       "    <tr>\n",
       "      <th>69</th>\n",
       "      <td>21135A4407</td>\n",
       "      <td>E</td>\n",
       "      <td>B</td>\n",
       "      <td>F</td>\n",
       "      <td>A+</td>\n",
       "      <td>F</td>\n",
       "      <td>E</td>\n",
       "      <td>6.00</td>\n",
       "    </tr>\n",
       "  </tbody>\n",
       "</table>\n",
       "<p>70 rows × 8 columns</p>\n",
       "</div>"
      ],
      "text/plain": [
       "       Roll_No NLP  DL BDA  ML AI DSA  CGPA\n",
       "0   20131A4401   C  A+   F  A+  A   D  7.67\n",
       "1   20131A4402   D   A   E   A  F   F  6.17\n",
       "2   20131A4403   E   E   B   A  A   B  7.33\n",
       "3   20131A4404   D   D   F   D  E   C  5.67\n",
       "4   20131A4405   C  A+   C   F  E   B  6.83\n",
       "..         ...  ..  ..  ..  .. ..  ..   ...\n",
       "65  21135A4403   F   E   E   B  F  A+  6.00\n",
       "66  21135A4404   F   E  A+   B  B   C  7.00\n",
       "67  21135A4405  A+   C   F   D  B   F  6.50\n",
       "68  21135A4406   F  A+   D   B  E   A  7.00\n",
       "69  21135A4407   E   B   F  A+  F   E  6.00\n",
       "\n",
       "[70 rows x 8 columns]"
      ]
     },
     "execution_count": 110,
     "metadata": {},
     "output_type": "execute_result"
    }
   ],
   "source": [
    "d"
   ]
  },
  {
   "cell_type": "code",
   "execution_count": 116,
   "id": "bfdc0fe9",
   "metadata": {},
   "outputs": [
    {
     "name": "stdout",
     "output_type": "stream",
     "text": [
      "Enter your choice\n",
      "2\n"
     ]
    },
    {
     "data": {
      "image/png": "[encoded data removed]",
      "text/plain": [
       "<Figure size 432x288 with 1 Axes>"
      ]
     },
     "metadata": {
      "needs_background": "light"
     },
     "output_type": "display_data"
    }
   ],
   "source": [
    "sub_choice=int(input(\"Enter your choice\\n\"))\n",
    "sub_choice=sub[sub_choice]\n",
    "l=d[sub_choice]\n",
    "x=0\n",
    "y=0\n",
    "for m in l:\n",
    "    if(m=='F'):\n",
    "        x+=1\n",
    "    else:\n",
    "        y+=1\n",
    "#colour=[{p<0: 'red', 0<=p<=2: 'orange', p>2: 'green'}[True] for p in [y,x]]\n",
    "plt.bar(['PASS','Fail'],[y,x],color=['green','red'])\n",
    "plt.show()"
   ]
  },
  {
   "cell_type": "code",
   "execution_count": 121,
   "id": "bb5d0393",
   "metadata": {},
   "outputs": [],
   "source": [
    "d1=d[['Roll_No','CGPA']]\n",
    "d1=d1.sort_values('CGPA',ascending=False)"
   ]
  },
  {
   "cell_type": "code",
   "execution_count": 123,
   "id": "df88c296",
   "metadata": {
    "collapsed": true
   },
   "outputs": [
    {
     "data": {
      "text/html": [
       "<div>\n",
       "<style scoped>\n",
       "    .dataframe tbody tr th:only-of-type {\n",
       "        vertical-align: middle;\n",
       "    }\n",
       "\n",
       "    .dataframe tbody tr th {\n",
       "        vertical-align: top;\n",
       "    }\n",
       "\n",
       "    .dataframe thead th {\n",
       "        text-align: right;\n",
       "    }\n",
       "</style>\n",
       "<table border=\"1\" class=\"dataframe\">\n",
       "  <thead>\n",
       "    <tr style=\"text-align: right;\">\n",
       "      <th></th>\n",
       "      <th>Roll_No</th>\n",
       "      <th>CGPA</th>\n",
       "    </tr>\n",
       "  </thead>\n",
       "  <tbody>\n",
       "    <tr>\n",
       "      <th>8</th>\n",
       "      <td>20131A4409</td>\n",
       "      <td>8.67</td>\n",
       "    </tr>\n",
       "    <tr>\n",
       "      <th>9</th>\n",
       "      <td>20131A4410</td>\n",
       "      <td>8.50</td>\n",
       "    </tr>\n",
       "    <tr>\n",
       "      <th>46</th>\n",
       "      <td>20131A4447</td>\n",
       "      <td>7.83</td>\n",
       "    </tr>\n",
       "    <tr>\n",
       "      <th>51</th>\n",
       "      <td>20131A4452</td>\n",
       "      <td>7.83</td>\n",
       "    </tr>\n",
       "    <tr>\n",
       "      <th>0</th>\n",
       "      <td>20131A4401</td>\n",
       "      <td>7.67</td>\n",
       "    </tr>\n",
       "    <tr>\n",
       "      <th>31</th>\n",
       "      <td>20131A4432</td>\n",
       "      <td>7.67</td>\n",
       "    </tr>\n",
       "    <tr>\n",
       "      <th>28</th>\n",
       "      <td>20131A4429</td>\n",
       "      <td>7.67</td>\n",
       "    </tr>\n",
       "    <tr>\n",
       "      <th>27</th>\n",
       "      <td>20131A4428</td>\n",
       "      <td>7.67</td>\n",
       "    </tr>\n",
       "    <tr>\n",
       "      <th>30</th>\n",
       "      <td>20131A4431</td>\n",
       "      <td>7.50</td>\n",
       "    </tr>\n",
       "    <tr>\n",
       "      <th>16</th>\n",
       "      <td>20131A4417</td>\n",
       "      <td>7.33</td>\n",
       "    </tr>\n",
       "  </tbody>\n",
       "</table>\n",
       "</div>"
      ],
      "text/plain": [
       "       Roll_No  CGPA\n",
       "8   20131A4409  8.67\n",
       "9   20131A4410  8.50\n",
       "46  20131A4447  7.83\n",
       "51  20131A4452  7.83\n",
       "0   20131A4401  7.67\n",
       "31  20131A4432  7.67\n",
       "28  20131A4429  7.67\n",
       "27  20131A4428  7.67\n",
       "30  20131A4431  7.50\n",
       "16  20131A4417  7.33"
      ]
     },
     "execution_count": 123,
     "metadata": {},
     "output_type": "execute_result"
    }
   ],
   "source": [
    "d1.head(10)"
   ]
  },
  {
   "cell_type": "code",
   "execution_count": 138,
   "id": "7069efb4",
   "metadata": {},
   "outputs": [
    {
     "name": "stdout",
     "output_type": "stream",
     "text": [
      "Enter your choice\n",
      "2\n"
     ]
    },
    {
     "name": "stderr",
     "output_type": "stream",
     "text": [
      "C:\\Users\\91949\\anaconda3\\lib\\site-packages\\seaborn\\_decorators.py:36: FutureWarning: Pass the following variables as keyword args: x, y. From version 0.12, the only valid positional argument will be `data`, and passing other arguments without an explicit keyword will result in an error or misinterpretation.\n",
      "  warnings.warn(\n"
     ]
    },
    {
     "data": {
      "text/plain": [
       "<AxesSubplot:>"
      ]
     },
     "execution_count": 138,
     "metadata": {},
     "output_type": "execute_result"
    },
    {
     "data": {
      "image/png": "[encoded data removed]",
      "text/plain": [
       "<Figure size 432x288 with 1 Axes>"
      ]
     },
     "metadata": {
      "needs_background": "light"
     },
     "output_type": "display_data"
    }
   ],
   "source": [
    "sub_choice=int(input(\"Enter your choice\\n\"))\n",
    "sub_choice=sub[sub_choice]\n",
    "l=d[sub_choice]\n",
    "c=[0 for i in range(7)]\n",
    "for m in l:\n",
    "    if(m==\"A+\"):\n",
    "        c[0]+=1\n",
    "    else:\n",
    "        c[ord(m)-64]+=1\n",
    "sns.barplot(grades,c,palette = \"Reds\")\n",
    "#colour=[{p<0: 'red', 0<=p<=2: 'orange', p>2: 'green'}[True] for p in [y,x]]\n",
    "# plt.bar(['A+','A','B','C','D','E','F'],c,color=['green','red'])\n",
    "# plt.show()"
   ]
  },
  {
   "cell_type": "code",
   "execution_count": 205,
   "id": "c8de4aff",
   "metadata": {},
   "outputs": [
    {
     "name": "stdout",
     "output_type": "stream",
     "text": [
      "Enter your choice\n",
      "2\n",
      "['E' 'E' 'B' 'A' 'A' 'B']\n"
     ]
    },
    {
     "data": {
      "text/plain": [
       "([<matplotlib.axis.YTick at 0x2754c0af280>,\n",
       "  <matplotlib.axis.YTick at 0x2754c1d3700>,\n",
       "  <matplotlib.axis.YTick at 0x2754d73c5b0>,\n",
       "  <matplotlib.axis.YTick at 0x2754c1e8820>,\n",
       "  <matplotlib.axis.YTick at 0x2754c1e85b0>,\n",
       "  <matplotlib.axis.YTick at 0x2754c1df850>,\n",
       "  <matplotlib.axis.YTick at 0x2754c1df5e0>,\n",
       "  <matplotlib.axis.YTick at 0x2754d374850>],\n",
       " [Text(0, 0, ' '),\n",
       "  Text(0, 1, 'F'),\n",
       "  Text(0, 2, 'E'),\n",
       "  Text(0, 3, 'D'),\n",
       "  Text(0, 4, 'C'),\n",
       "  Text(0, 5, 'B'),\n",
       "  Text(0, 6, 'A'),\n",
       "  Text(0, 7, 'A+')])"
      ]
     },
     "execution_count": 205,
     "metadata": {},
     "output_type": "execute_result"
    },
    {
     "data": {
      "image/png": "[encoded data removed]",
      "text/plain": [
       "<Figure size 432x288 with 1 Axes>"
      ]
     },
     "metadata": {
      "needs_background": "light"
     },
     "output_type": "display_data"
    }
   ],
   "source": [
    "roll_choice=int(input(\"Enter your choice\\n\"))\n",
    "#roll_choice=roll[roll_choice-1]\n",
    "l=d.loc[roll_choice]\n",
    "x=list(l.keys())\n",
    "x=x[1:-1]\n",
    "y=l.values[1:-1]\n",
    "print(y)\n",
    "y_mapping = {'A':6,'A+':7,'B':5,'C':4,'D':3,'E':2,'F':1}\n",
    "y_labels = ['A+', 'A', 'B', 'C', 'D', 'E', 'F',' ']\n",
    "y_labels=y_labels[::-1]\n",
    "y=[y_mapping[f] for f in y]\n",
    "plt.bar(x,y)\n",
    "l=[i for i in range(8)]\n",
    "plt.yticks(l, y_labels)"
   ]
  },
  {
   "cell_type": "code",
   "execution_count": 202,
   "id": "f39229cd",
   "metadata": {},
   "outputs": [
    {
     "data": {
      "image/png": "[encoded data removed]",
      "text/plain": [
       "<Figure size 432x288 with 1 Axes>"
      ]
     },
     "metadata": {
      "needs_background": "light"
     },
     "output_type": "display_data"
    }
   ],
   "source": [
    "import matplotlib.pyplot as plt\n",
    "\n",
    "# Sample categorical data for the x-axis\n",
    "x = ['NLP', 'DL', 'BDA', 'ML', 'AI', 'DSA']\n",
    "\n",
    "# Sample categorical data for the y-axis\n",
    "y = ['E', 'E', 'B', 'A', 'A', 'B']\n",
    "\n",
    "# Mapping for y-labels\n",
    "y_labels = ['A+', 'A', 'B', 'C', 'D', 'E', 'F',' ']\n",
    "#\n",
    "\n",
    "# Create a dictionary to map y-values to their corresponding y-labels\n",
    "y_mapping = {'A':1,'B':2,'E':5}\n",
    "\n",
    "# Convert y-values to y-labels using the mapping\n",
    "y_labels_mapped = [y_mapping[grade] for grade in y]\n",
    "\n",
    "# Plot the bar chart\n",
    "plt.bar(x, y_labels_mapped)\n",
    "\n",
    "# Customize the y-axis ticks and labels\n",
    "l=[i for i in range(8)]\n",
    "plt.yticks(l, y_labels)\n",
    "\n",
    "# Customize the plot\n",
    "plt.xlabel('Categories')\n",
    "plt.ylabel('Grades')\n",
    "plt.title('Bar Graph with Custom Y-labels')\n",
    "plt.grid(True)\n",
    "\n",
    "# Show the plot\n",
    "plt.show()\n"
   ]
  },
  {
   "cell_type": "code",
   "execution_count": null,
   "id": "07f72acb",
   "metadata": {},
   "outputs": [],
   "source": []
  }
 ],
 "metadata": {
  "kernelspec": {
   "display_name": "Python 3 (ipykernel)",
   "language": "python",
   "name": "python3"
  },
  "language_info": {
   "codemirror_mode": {
    "name": "ipython",
    "version": 3
   },
   "file_extension": ".py",
   "mimetype": "text/x-python",
   "name": "python",
   "nbconvert_exporter": "python",
   "pygments_lexer": "ipython3",
   "version": "3.9.7"
  }
 },
 "nbformat": 4,
 "nbformat_minor": 5
}
